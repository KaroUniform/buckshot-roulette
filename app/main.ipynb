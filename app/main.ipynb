{
 "cells": [
  {
   "cell_type": "code",
   "execution_count": 1,
   "metadata": {},
   "outputs": [],
   "source": [
    "from core.scene import Scene\n",
    "from core.models.player_model import PlayerModel"
   ]
  },
  {
   "cell_type": "code",
   "execution_count": 2,
   "metadata": {},
   "outputs": [],
   "source": [
    "scene = Scene()"
   ]
  },
  {
   "cell_type": "code",
   "execution_count": 3,
   "metadata": {},
   "outputs": [],
   "source": [
    "scene.add_player(PlayerModel(name=\"🦊Dealer\", chat_id=111111, hp=1, max_hp=1), player_turn=0)\n",
    "scene.add_player(PlayerModel(name=\"🐺Relaed\", chat_id=111222, hp=1, max_hp=1), player_turn=1)"
   ]
  },
  {
   "cell_type": "code",
   "execution_count": 5,
   "metadata": {},
   "outputs": [
    {
     "name": "stdout",
     "output_type": "stream",
     "text": [
      "first_player_hp='🦊Dealer : ⚡️⚡️⚡️\\n' second_player_hp='🐺Relaed : ⚡️⚡️⚡️\\n' first_player_items=['🪚x1', '🔗x1', '🔍x1'] second_player_items=['🍺x1', '🔗x1', '🔍x1'] rounds='💥, 💥, 💥, 💥, 🫧' active_player_action_result='🪙🦊Dealer are going first' passive_player_action_resilt='🪙🦊Dealer are going first' is_game_ended=False give_turn=False on_start_first_id=111111\n"
     ]
    }
   ],
   "source": [
    "print(scene.start())"
   ]
  },
  {
   "cell_type": "code",
   "execution_count": 9,
   "metadata": {},
   "outputs": [
    {
     "name": "stdout",
     "output_type": "stream",
     "text": [
      "first_player_hp='🦊Dealer : ⚡️⚡️\\n' second_player_hp='🐺Relaed : ⚡️⚡️\\n' first_player_items=['🪚x1', '🔗x1', '🔍x1'] second_player_items=['🔗x1', '🔍x1'] rounds='💥, 🫧' active_player_action_result='You shot by 💥' passive_player_action_resilt='🐺Relaed 💥 to you\\n\\n🦊Dealer, please, turn' is_game_ended=False give_turn=True on_start_first_id=None\n"
     ]
    }
   ],
   "source": [
    "print(scene.make_turn('him'))"
   ]
  },
  {
   "cell_type": "code",
   "execution_count": 25,
   "metadata": {},
   "outputs": [
    {
     "name": "stdout",
     "output_type": "stream",
     "text": [
      "🚬You now have 3 hp\n",
      "\n",
      "🐺RELAED : ⚡️⚡️; \n",
      "{'handsaw': 2, 'beer': 0, 'smoke': 2, 'handcuff': 1, 'magnifying_glass': 0} \n",
      "\n",
      "🦊DEALER : ⚡️⚡️⚡️ \n",
      "{'handsaw': 1, 'beer': 1, 'smoke': 0, 'handcuff': 0, 'magnifying_glass': 0} \n",
      "\n",
      "\n",
      "\n",
      "🦊DEALER please, turn\n"
     ]
    }
   ],
   "source": [
    "print(scene.make_turn('smoke'))"
   ]
  },
  {
   "cell_type": "code",
   "execution_count": 5,
   "metadata": {},
   "outputs": [
    {
     "ename": "SyntaxError",
     "evalue": "did you forget parentheses around the comprehension target? (1863391948.py, line 1)",
     "output_type": "error",
     "traceback": [
      "\u001b[0;36m  Cell \u001b[0;32mIn[5], line 1\u001b[0;36m\u001b[0m\n\u001b[0;31m    [1, 2 for _ in range(10)]\u001b[0m\n\u001b[0m     ^\u001b[0m\n\u001b[0;31mSyntaxError\u001b[0m\u001b[0;31m:\u001b[0m did you forget parentheses around the comprehension target?\n"
     ]
    }
   ],
   "source": [
    "[1, 2 for _ in range(10)]"
   ]
  },
  {
   "cell_type": "code",
   "execution_count": 2,
   "metadata": {},
   "outputs": [],
   "source": [
    "a.clear()"
   ]
  },
  {
   "cell_type": "code",
   "execution_count": 3,
   "metadata": {},
   "outputs": [
    {
     "data": {
      "text/plain": [
       "[]"
      ]
     },
     "execution_count": 3,
     "metadata": {},
     "output_type": "execute_result"
    }
   ],
   "source": [
    "a"
   ]
  },
  {
   "cell_type": "code",
   "execution_count": 15,
   "metadata": {},
   "outputs": [
    {
     "data": {
      "text/plain": [
       "'🔍'"
      ]
     },
     "execution_count": 15,
     "metadata": {},
     "output_type": "execute_result"
    }
   ],
   "source": [
    "\"🔍\"[:2]"
   ]
  },
  {
   "cell_type": "code",
   "execution_count": 3,
   "metadata": {},
   "outputs": [
    {
     "data": {
      "text/plain": [
       "'test'"
      ]
     },
     "execution_count": 3,
     "metadata": {},
     "output_type": "execute_result"
    }
   ],
   "source": [
    "\"\"\"\n",
    "test   \"\"\".strip()"
   ]
  },
  {
   "cell_type": "code",
   "execution_count": 15,
   "metadata": {},
   "outputs": [],
   "source": [
    "a.append(0)"
   ]
  },
  {
   "cell_type": "code",
   "execution_count": 22,
   "metadata": {},
   "outputs": [],
   "source": [
    "a = [1, 2]"
   ]
  },
  {
   "cell_type": "code",
   "execution_count": 23,
   "metadata": {},
   "outputs": [],
   "source": [
    "a.insert(1, 3)"
   ]
  },
  {
   "cell_type": "code",
   "execution_count": 24,
   "metadata": {},
   "outputs": [
    {
     "data": {
      "text/plain": [
       "[1, 3, 2]"
      ]
     },
     "execution_count": 24,
     "metadata": {},
     "output_type": "execute_result"
    }
   ],
   "source": [
    "a"
   ]
  },
  {
   "cell_type": "code",
   "execution_count": null,
   "metadata": {},
   "outputs": [],
   "source": []
  }
 ],
 "metadata": {
  "kernelspec": {
   "display_name": "bask",
   "language": "python",
   "name": "python3"
  },
  "language_info": {
   "codemirror_mode": {
    "name": "ipython",
    "version": 3
   },
   "file_extension": ".py",
   "mimetype": "text/x-python",
   "name": "python",
   "nbconvert_exporter": "python",
   "pygments_lexer": "ipython3",
   "version": "3.11.3"
  }
 },
 "nbformat": 4,
 "nbformat_minor": 2
}
